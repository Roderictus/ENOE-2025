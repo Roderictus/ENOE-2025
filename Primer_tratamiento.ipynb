{
 "cells": [
  {
   "cell_type": "code",
   "execution_count": 4,
   "id": "8622c13b",
   "metadata": {},
   "outputs": [
    {
     "name": "stdout",
     "output_type": "stream",
     "text": [
      "Archivo .dta cargado con éxito. Las etiquetas de valor están disponibles en 'value_labels'.\n",
      "\n",
      "Etiquetas de valor para la columna 'cd_a':\n",
      "{1: 'Área metropolitana de la Ciudad de México', 2: 'Guadalajara', 3: 'Monterrey', 4: 'Puebla', 5: 'León', 6: 'Torreón', 7: 'San Luis Potosí', 8: 'Mérida', 9: 'Chihuahua', 10: 'Tampico', 12: 'Veracruz', 13: 'Acapulco', 14: 'Aguascalientes', 15: 'Morelia', 16: 'Toluca', 17: 'Saltillo', 18: 'Villahermosa', 19: 'Tuxtla Guutiérrez', 20: 'Cd. Juárez', 21: 'Tijuana', 24: 'Culiacán', 25: 'Hermosillo', 26: 'Durango', 27: 'Tepic', 28: 'Campeche', 29: 'Cuernavaca', 30: 'Coatzacoalcos', 31: 'Oaxaca', 32: 'Zacatecas', 33: 'Colima', 36: 'Querétaro', 39: 'Tlaxcala', 40: 'La Paz', 41: 'Cancún', 42: 'Ciudad del Carmen', 43: 'Pachuca', 44: 'Mexicali', 46: 'Reynosa', 52: 'Tapachula', 81: 'Complemento urbano-rural', 82: 'Complemento urbano-rural', 83: 'Complemento urbano-rural', 84: 'Complemento urbano-rural', 85: 'Complemento urbano-rural', 86: 'Complemento urbano-rural'}\n"
     ]
    }
   ],
   "source": [
    "import pandas as pd\n",
    "from pandas.io.stata import StataReader\n",
    "\n",
    "try:\n",
    "    # Crea un objeto StataReader para obtener los datos y las etiquetas por separado\n",
    "    with StataReader('Data\\ENOE_SDEMT225.dta', convert_categoricals = False) as reader:\n",
    "        df = reader.read()\n",
    "        value_labels = reader.value_labels()\n",
    "        print(\"Archivo .dta cargado con éxito. Las etiquetas de valor están disponibles en 'value_labels'.\")\n",
    "\n",
    "    # Acceder a las etiquetas de la columna 'cd_a'\n",
    "    if 'cd_a' in value_labels:\n",
    "        print(\"\\nEtiquetas de valor para la columna 'cd_a':\")\n",
    "        print(value_labels['cd_a'])\n",
    "\n",
    "except FileNotFoundError:\n",
    "    print(\"Error: El archivo no se encontró. Verifica la ruta.\")\n",
    "except Exception as e:\n",
    "    print(f\"Ocurrió un error al leer el archivo: {e}\")"
   ]
  },
  {
   "cell_type": "code",
   "execution_count": 5,
   "id": "1b5f312f",
   "metadata": {},
   "outputs": [
    {
     "name": "stdout",
     "output_type": "stream",
     "text": [
      "\n",
      "--- 2. Análisis General ---\n",
      "Dimensiones del DataFrame: (423744, 114)\n",
      "\n",
      "Información del DataFrame:\n",
      "<class 'pandas.core.frame.DataFrame'>\n",
      "RangeIndex: 423744 entries, 0 to 423743\n",
      "Columns: 114 entries, r_def to mes_cal\n",
      "dtypes: float64(111), object(3)\n",
      "memory usage: 368.6+ MB\n"
     ]
    }
   ],
   "source": [
    "# 2. Análisis general del DataFrame\n",
    "print(\"\\n--- 2. Análisis General ---\")\n",
    "print(f\"Dimensiones del DataFrame: {df.shape}\")\n",
    "print(\"\\nInformación del DataFrame:\")\n",
    "df.info()"
   ]
  },
  {
   "cell_type": "code",
   "execution_count": 6,
   "id": "b0c7cd42",
   "metadata": {},
   "outputs": [
    {
     "name": "stdout",
     "output_type": "stream",
     "text": [
      "\n",
      "--- 3. Estadísticas Descriptivas ---\n",
      "\n",
      "Para variables numéricas:\n",
      "               r_def  loc            mun            est      est_d_tri  \\\n",
      "count  423744.000000  0.0  420193.000000  423744.000000  423744.000000   \n",
      "mean        0.031505  NaN      40.592794      23.527177     857.616042   \n",
      "std         0.686718  NaN      59.514094       8.922421     220.264193   \n",
      "min         0.000000  NaN       1.000000      10.000000     501.000000   \n",
      "25%         0.000000  NaN       7.000000      20.000000     660.000000   \n",
      "50%         0.000000  NaN      21.000000      20.000000     849.000000   \n",
      "75%         0.000000  NaN      49.000000      30.000000    1058.000000   \n",
      "max        15.000000  NaN     570.000000      40.000000    1243.000000   \n",
      "\n",
      "           est_d_men      ageb      t_loc_tri      t_loc_men           cd_a  \\\n",
      "count  403217.000000  423744.0  423744.000000  403217.000000  423744.000000   \n",
      "mean      858.772418       0.0       1.942307       1.973101      44.165154   \n",
      "std       220.315761       0.0       1.182057       1.191770      32.726199   \n",
      "min       501.000000       0.0       1.000000       1.000000       1.000000   \n",
      "25%       663.000000       0.0       1.000000       1.000000      15.000000   \n",
      "50%       849.000000       0.0       1.000000       1.000000      33.000000   \n",
      "75%      1058.000000       0.0       3.000000       3.000000      83.000000   \n",
      "max      1243.000000       0.0       4.000000       4.000000      86.000000   \n",
      "\n",
      "       ...          scian          t_tra       emp_ppal       tue_ppal  \\\n",
      "count  ...  423744.000000  423744.000000  423744.000000  423744.000000   \n",
      "mean   ...       4.528987       0.477442       0.670214       0.781193   \n",
      "std    ...       6.514078       0.546725       0.809932       0.909864   \n",
      "min    ...       0.000000       0.000000       0.000000       0.000000   \n",
      "25%    ...       0.000000       0.000000       0.000000       0.000000   \n",
      "50%    ...       0.000000       0.000000       0.000000       0.000000   \n",
      "75%    ...       7.000000       1.000000       1.000000       2.000000   \n",
      "max    ...      21.000000       2.000000       2.000000       2.000000   \n",
      "\n",
      "          trans_ppal        mh_fil2         mh_col        sec_ins  \\\n",
      "count  423744.000000  423744.000000  423744.000000  423744.000000   \n",
      "mean        0.001348       1.129463       1.456901       2.294794   \n",
      "std         0.036684       1.406683       2.335315       3.098890   \n",
      "min         0.000000       0.000000       0.000000       0.000000   \n",
      "25%         0.000000       0.000000       0.000000       0.000000   \n",
      "50%         0.000000       0.000000       0.000000       0.000000   \n",
      "75%         0.000000       3.000000       2.000000       4.000000   \n",
      "max         1.000000       4.000000       9.000000      11.000000   \n",
      "\n",
      "                tipo        mes_cal  \n",
      "count  423744.000000  423744.000000  \n",
      "mean        1.088830       9.456658  \n",
      "std         0.284498      19.768281  \n",
      "min         1.000000       4.000000  \n",
      "25%         1.000000       4.000000  \n",
      "50%         1.000000       5.000000  \n",
      "75%         1.000000       6.000000  \n",
      "max         2.000000      97.000000  \n",
      "\n",
      "[8 rows x 111 columns]\n",
      "\n",
      "Para todas las variables:\n",
      "                r_def  loc            mun            est      est_d_tri  \\\n",
      "count   423744.000000  0.0  420193.000000  423744.000000  423744.000000   \n",
      "unique            NaN  NaN            NaN            NaN            NaN   \n",
      "top               NaN  NaN            NaN            NaN            NaN   \n",
      "freq              NaN  NaN            NaN            NaN            NaN   \n",
      "mean         0.031505  NaN      40.592794      23.527177     857.616042   \n",
      "std          0.686718  NaN      59.514094       8.922421     220.264193   \n",
      "min          0.000000  NaN       1.000000      10.000000     501.000000   \n",
      "25%          0.000000  NaN       7.000000      20.000000     660.000000   \n",
      "50%          0.000000  NaN      21.000000      20.000000     849.000000   \n",
      "75%          0.000000  NaN      49.000000      30.000000    1058.000000   \n",
      "max         15.000000  NaN     570.000000      40.000000    1243.000000   \n",
      "\n",
      "            est_d_men      ageb      t_loc_tri      t_loc_men           cd_a  \\\n",
      "count   403217.000000  423744.0  423744.000000  403217.000000  423744.000000   \n",
      "unique            NaN       NaN            NaN            NaN            NaN   \n",
      "top               NaN       NaN            NaN            NaN            NaN   \n",
      "freq              NaN       NaN            NaN            NaN            NaN   \n",
      "mean       858.772418       0.0       1.942307       1.973101      44.165154   \n",
      "std        220.315761       0.0       1.182057       1.191770      32.726199   \n",
      "min        501.000000       0.0       1.000000       1.000000       1.000000   \n",
      "25%        663.000000       0.0       1.000000       1.000000      15.000000   \n",
      "50%        849.000000       0.0       1.000000       1.000000      33.000000   \n",
      "75%       1058.000000       0.0       3.000000       3.000000      83.000000   \n",
      "max       1243.000000       0.0       4.000000       4.000000      86.000000   \n",
      "\n",
      "        ...          scian          t_tra       emp_ppal       tue_ppal  \\\n",
      "count   ...  423744.000000  423744.000000  423744.000000  423744.000000   \n",
      "unique  ...            NaN            NaN            NaN            NaN   \n",
      "top     ...            NaN            NaN            NaN            NaN   \n",
      "freq    ...            NaN            NaN            NaN            NaN   \n",
      "mean    ...       4.528987       0.477442       0.670214       0.781193   \n",
      "std     ...       6.514078       0.546725       0.809932       0.909864   \n",
      "min     ...       0.000000       0.000000       0.000000       0.000000   \n",
      "25%     ...       0.000000       0.000000       0.000000       0.000000   \n",
      "50%     ...       0.000000       0.000000       0.000000       0.000000   \n",
      "75%     ...       7.000000       1.000000       1.000000       2.000000   \n",
      "max     ...      21.000000       2.000000       2.000000       2.000000   \n",
      "\n",
      "           trans_ppal        mh_fil2         mh_col        sec_ins  \\\n",
      "count   423744.000000  423744.000000  423744.000000  423744.000000   \n",
      "unique            NaN            NaN            NaN            NaN   \n",
      "top               NaN            NaN            NaN            NaN   \n",
      "freq              NaN            NaN            NaN            NaN   \n",
      "mean         0.001348       1.129463       1.456901       2.294794   \n",
      "std          0.036684       1.406683       2.335315       3.098890   \n",
      "min          0.000000       0.000000       0.000000       0.000000   \n",
      "25%          0.000000       0.000000       0.000000       0.000000   \n",
      "50%          0.000000       0.000000       0.000000       0.000000   \n",
      "75%          0.000000       3.000000       2.000000       4.000000   \n",
      "max          1.000000       4.000000       9.000000      11.000000   \n",
      "\n",
      "                 tipo        mes_cal  \n",
      "count   423744.000000  423744.000000  \n",
      "unique            NaN            NaN  \n",
      "top               NaN            NaN  \n",
      "freq              NaN            NaN  \n",
      "mean         1.088830       9.456658  \n",
      "std          0.284498      19.768281  \n",
      "min          1.000000       4.000000  \n",
      "25%          1.000000       4.000000  \n",
      "50%          1.000000       5.000000  \n",
      "75%          1.000000       6.000000  \n",
      "max          2.000000      97.000000  \n",
      "\n",
      "[11 rows x 114 columns]\n"
     ]
    }
   ],
   "source": [
    "# 3. Estadísticas descriptivas\n",
    "print(\"\\n--- 3. Estadísticas Descriptivas ---\")\n",
    "print(\"\\nPara variables numéricas:\")\n",
    "print(df.describe())\n",
    "print(\"\\nPara todas las variables:\")\n",
    "print(df.describe(include='all'))"
   ]
  },
  {
   "cell_type": "code",
   "execution_count": 7,
   "id": "75e21f61",
   "metadata": {},
   "outputs": [
    {
     "name": "stdout",
     "output_type": "stream",
     "text": [
      "\n",
      "--- 6. Matriz de Correlación ---\n",
      "No se pudo calcular la matriz de correlación: could not convert string to float: ' '\n"
     ]
    }
   ],
   "source": [
    "# 6. Matriz de correlación\n",
    "print(\"\\n--- 6. Matriz de Correlación ---\")\n",
    "try:\n",
    "    print(df.corr())\n",
    "except Exception as e:\n",
    "    print(f\"No se pudo calcular la matriz de correlación: {e}\")"
   ]
  },
  {
   "cell_type": "code",
   "execution_count": null,
   "id": "9285e655",
   "metadata": {},
   "outputs": [],
   "source": []
  }
 ],
 "metadata": {
  "kernelspec": {
   "display_name": "gee",
   "language": "python",
   "name": "python3"
  },
  "language_info": {
   "codemirror_mode": {
    "name": "ipython",
    "version": 3
   },
   "file_extension": ".py",
   "mimetype": "text/x-python",
   "name": "python",
   "nbconvert_exporter": "python",
   "pygments_lexer": "ipython3",
   "version": "3.11.9"
  }
 },
 "nbformat": 4,
 "nbformat_minor": 5
}
